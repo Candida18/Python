{
  "nbformat": 4,
  "nbformat_minor": 0,
  "metadata": {
    "colab": {
      "name": "8960 Candida - Practical 2.ipynb",
      "provenance": [],
      "collapsed_sections": [],
      "authorship_tag": "ABX9TyP4m+vvP+jimTa1VMbrbyaQ",
      "include_colab_link": true
    },
    "kernelspec": {
      "name": "python3",
      "display_name": "Python 3"
    },
    "language_info": {
      "name": "python"
    }
  },
  "cells": [
    {
      "cell_type": "markdown",
      "metadata": {
        "id": "view-in-github",
        "colab_type": "text"
      },
      "source": [
        "<a href=\"https://colab.research.google.com/github/Candida18/Python/blob/main/8960_Candida_Practical_2.ipynb\" target=\"_parent\"><img src=\"https://colab.research.google.com/assets/colab-badge.svg\" alt=\"Open In Colab\"/></a>"
      ]
    },
    {
      "cell_type": "markdown",
      "metadata": {
        "id": "DW2vJ9nhFmYq"
      },
      "source": [
        "**Name : Candida Ruth Noronha**\n",
        "\n",
        "**Class : SE COMPS B**\n",
        "\n",
        "**Roll No. : 8960**\n",
        "\n",
        "**Title : Python Experiment 2**"
      ]
    },
    {
      "cell_type": "markdown",
      "metadata": {
        "id": "WyAdgO-VFqY0"
      },
      "source": [
        "**OOPS**\n",
        "\n",
        "1. Write a Python class to find a pair of elements (indices of the two numbers) from a given array whose sum equals a specific target number.\n",
        "\n",
        "**Code :**"
      ]
    },
    {
      "cell_type": "code",
      "metadata": {
        "id": "ORLMkyb-FaFO",
        "colab": {
          "base_uri": "https://localhost:8080/"
        },
        "outputId": "e279e730-3831-434e-ca31-f97032a18549"
      },
      "source": [
        "\n",
        "class Pair :\n",
        "    def __init__(self,list,target):\n",
        "        self.list = list\n",
        "        self.target=target;\n",
        "\n",
        "    def pairOfNum(self):\n",
        "      print(\"The pair of indices are : \\n\")\n",
        "      for i in range(0,len(self.list)):\n",
        "          for j in range(i+1,len(self.list)):\n",
        "              if(self.list[i] + self.list[j] == self.target):\n",
        "                print((i+1,j+1))\n",
        "                  \n",
        "                \n",
        "if __name__ == \"__main__\":\n",
        "  numbers=[10,20,10,40,50,60,70]\n",
        "  target= 50\n",
        "  t = Pair(numbers,target)\n",
        "  t.pairOfNum()\n",
        "\n",
        "\n"
      ],
      "execution_count": null,
      "outputs": [
        {
          "output_type": "stream",
          "text": [
            "The pair of indices are : \n",
            "\n",
            "(1, 4)\n",
            "(3, 4)\n"
          ],
          "name": "stdout"
        }
      ]
    },
    {
      "cell_type": "markdown",
      "metadata": {
        "id": "AD8o0nRTjNf5"
      },
      "source": [
        "**OOPS**\n",
        "\n",
        "2. Write a Python class to get all possible unique subsets from a set of distinct integers.\n",
        "\n",
        "**Code :**"
      ]
    },
    {
      "cell_type": "code",
      "metadata": {
        "id": "osQTLZAZjM0k",
        "colab": {
          "base_uri": "https://localhost:8080/"
        },
        "outputId": "89059592-6967-4fe0-ba60-379a8dbbee40"
      },
      "source": [
        "class Subset:\n",
        "    def f1(self, s1):\n",
        "        return self.f2([], sorted(s1))\n",
        "\n",
        "    def f2(self, curr, s1):\n",
        "        if s1:\n",
        "            return self.f2(curr, s1[1:]) + self.f2(curr + [s1[0]], s1[1:])\n",
        "        return [curr]\n",
        "\n",
        "\n",
        "a = []\n",
        "n = int(input(\"Enter number of elements in the list: \"))\n",
        "for i in range(0, n):\n",
        "    b = int(input(\"Enter an element: \"))\n",
        "    a.append(b)\n",
        "print(\"\\nSubsets : \")\n",
        "print(Subset().f1(a))"
      ],
      "execution_count": null,
      "outputs": [
        {
          "output_type": "stream",
          "text": [
            "Enter number of elements in the list: 3\n",
            "Enter an element: 4\n",
            "Enter an element: 5\n",
            "Enter an element: 6\n",
            "\n",
            "Subsets : \n",
            "[[], [6], [5], [5, 6], [4], [4, 6], [4, 5], [4, 5, 6]]\n"
          ],
          "name": "stdout"
        }
      ]
    },
    {
      "cell_type": "markdown",
      "metadata": {
        "id": "Sd-jQiTV1vMl"
      },
      "source": [
        "**Exception Handling**\n",
        "\n",
        "An interactive caluculator: Program reads an expression as input and has to\n",
        "calculate the value of expression. The program throws an exception if the given\n",
        "expression is not in expected format.\n",
        "\n",
        "**Code :**"
      ]
    },
    {
      "cell_type": "code",
      "metadata": {
        "colab": {
          "base_uri": "https://localhost:8080/"
        },
        "id": "XnkF_Y043Rw2",
        "outputId": "429de4b8-2691-4fa2-b078-d30cbd153890"
      },
      "source": [
        "class Calculator:\n",
        " def perform(str):\n",
        "  try:\n",
        "    if len(str) > 3:\n",
        "       raise ValueError(\"Please enter 2 operands and one operator only\")\n",
        "    else:\n",
        "      val_1 = int(str[0])\n",
        "      op = str[1]\n",
        "      val_2 = int(str[2])\n",
        "      if op == '+':\n",
        "        ans = val_1 + val_2\n",
        "      elif op == '-':\n",
        "        ans = val_1 - val_2\n",
        "      elif op == '*':\n",
        "        ans = val_1 * val_2\n",
        "      elif op == '/'\n",
        "        ans = val_1 / val_2\n",
        "       elif op == '//'\n",
        "        ans = val_1 // val_2\n",
        "      print(ans)\n",
        "  except:\n",
        "    print(\"\\nEntry of two operands and one operator is only allowed !\")\n",
        "\n",
        "if __name__ == \"__main__\":\n",
        "  expr = []\n",
        "  expr = input(\"Enter the expression : \") \n",
        "  Calculator.perform(expr)\n"
      ],
      "execution_count": null,
      "outputs": [
        {
          "output_type": "stream",
          "text": [
            "Enter the expression : 2 + 3 / 8\n",
            "\n",
            "Entry of two operands and one operator is only allowed!\n"
          ],
          "name": "stdout"
        }
      ]
    }
  ]
}