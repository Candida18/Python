{
  "nbformat": 4,
  "nbformat_minor": 0,
  "metadata": {
    "colab": {
      "name": "8960 Candida - Practical 1.ipynb",
      "provenance": [],
      "collapsed_sections": [],
      "authorship_tag": "ABX9TyMiz5sO1Z3K5t7dTEUik7dL",
      "include_colab_link": true
    },
    "kernelspec": {
      "name": "python3",
      "display_name": "Python 3"
    }
  },
  "cells": [
    {
      "cell_type": "markdown",
      "metadata": {
        "id": "view-in-github",
        "colab_type": "text"
      },
      "source": [
        "<a href=\"https://colab.research.google.com/github/Candida18/Python/blob/main/8960_Candida_Practical_1.ipynb\" target=\"_parent\"><img src=\"https://colab.research.google.com/assets/colab-badge.svg\" alt=\"Open In Colab\"/></a>"
      ]
    },
    {
      "cell_type": "markdown",
      "metadata": {
        "id": "juepHYdbLRc6"
      },
      "source": [
        "**Name : Candida Ruth Noronha**\n",
        "\n",
        "**Class : SE COMPS B**\n",
        "\n",
        "**Roll No. : 8960**\n",
        "\n",
        "**Title : Python Experiment 1**"
      ]
    },
    {
      "cell_type": "markdown",
      "metadata": {
        "id": "MUC-SCELLdQS"
      },
      "source": [
        "**Numbers**\n",
        "\n",
        "a. To compute prime factors of an integer\n",
        "\n",
        "**Code :**"
      ]
    },
    {
      "cell_type": "code",
      "metadata": {
        "colab": {
          "base_uri": "https://localhost:8080/"
        },
        "id": "0lgIo1PuLegl",
        "outputId": "9dcb8e42-2347-4ba0-e068-6be15ecc5796"
      },
      "source": [
        "import math \n",
        "  \n",
        "# A function to print all prime factors of a given number n \n",
        "def primeFactors(n): \n",
        "     \n",
        "    # Print the number of two's that divide n \n",
        "    while n % 2 == 0: \n",
        "        print (\"2\")\n",
        "        n = n / 2\n",
        "          \n",
        "    # n must be odd at this point so a skip of 2 ( i = i + 2) can be used \n",
        "    for i in range(3,int(math.sqrt(n))+1,2): \n",
        "          \n",
        "        # while i divides n , print i and divide n \n",
        "        while n % i== 0: \n",
        "            print (i) \n",
        "            n = n / i \n",
        "              \n",
        "    # Condition if n is a prime \n",
        "    # number greater than 2 \n",
        "    if n > 2: \n",
        "        print (n)\n",
        "          \n",
        "# Driver Program to test above function \n",
        "  \n",
        "if __name__ == \"__main__\":\n",
        "    n = int(input(\" Output :\\n\\n Enter a number : \"))\n",
        "    print(\" The prime factors of {} are : \".format(n))\n",
        "    primeFactors( n) "
      ],
      "execution_count": null,
      "outputs": [
        {
          "output_type": "stream",
          "text": [
            " Output :\n",
            "\n",
            " Enter a number : 200\n",
            " The prime factors of 200 are : \n",
            "2\n",
            "2\n",
            "2\n",
            "5\n",
            "5\n"
          ],
          "name": "stdout"
        }
      ]
    },
    {
      "cell_type": "markdown",
      "metadata": {
        "id": "mAFfbiFXLlyQ"
      },
      "source": [
        "**Strings**\n",
        "\n",
        "a. To Count the Occurrences of Each Word in a Given String\n",
        "Sentence.\n",
        "\n",
        "**Code :**"
      ]
    },
    {
      "cell_type": "code",
      "metadata": {
        "colab": {
          "base_uri": "https://localhost:8080/"
        },
        "id": "5Elq7qF3KGAS",
        "outputId": "889152a8-68de-4ddb-cf6a-d34dd48c7c61"
      },
      "source": [
        "def word_count(str):\n",
        "    counts = dict()\n",
        "    words = str.split()\n",
        "\n",
        "    for word in words:\n",
        "        if word in counts:\n",
        "            counts[word] += 1\n",
        "        else:\n",
        "            counts[word] = 1         \n",
        "    return counts\n",
        "\n",
        "if __name__ == \"__main__\":\n",
        "    str = input(\" Output :\\n\\n Enter a sentence : \")\n",
        "    print(\"\\n The occurences of each word in the sentence is : \\n\")\n",
        "    print(word_count(str))"
      ],
      "execution_count": null,
      "outputs": [
        {
          "output_type": "stream",
          "text": [
            " Output :\n",
            "\n",
            " Enter a sentence : Next time there won't be a next time\n",
            "\n",
            " The occurences of each word in the sentence is : \n",
            "\n",
            "{'Next': 1, 'time': 2, 'there': 1, \"won't\": 1, 'be': 1, 'a': 1, 'next': 1}\n"
          ],
          "name": "stdout"
        }
      ]
    },
    {
      "cell_type": "markdown",
      "metadata": {
        "id": "JXCFqIPQLxUf"
      },
      "source": [
        "**List**\n",
        "\n",
        "b. To Read a List of Words and Return the Length of the Longest One\n",
        "\n",
        "**Code :**"
      ]
    },
    {
      "cell_type": "code",
      "metadata": {
        "colab": {
          "base_uri": "https://localhost:8080/"
        },
        "id": "x7EMR2Z4LyQo",
        "outputId": "7a9ba796-8c2c-4931-e65d-aad5f751ed74"
      },
      "source": [
        "def lenoflongestword(str):\n",
        "  words = str.split()\n",
        "  max = len(words[0])\n",
        "  word = words[0]\n",
        "\n",
        "  for i in words:\n",
        "    if len(i) > max :\n",
        "      max = len(i)\n",
        "      word = i\n",
        "  print(\"\\nThe word with the longest length is {} and its length is {}\".format(word,max)) \n",
        "    \n",
        "if __name__==\"__main__\" :\n",
        "    str = input(\"Output :\\n\\nEnter a sentence : \" )\n",
        "    lenoflongestword(str)"
      ],
      "execution_count": null,
      "outputs": [
        {
          "output_type": "stream",
          "text": [
            "Output :\n",
            "\n",
            "Enter a sentence :  She sells seashells by the seashore.\n",
            "\n",
            "The word with the longest length is seashells and its length is 9\n"
          ],
          "name": "stdout"
        }
      ]
    },
    {
      "cell_type": "markdown",
      "metadata": {
        "id": "ZnYItoWDL5vP"
      },
      "source": [
        "**Arrays**\n",
        "\n",
        "a. Write a Python program to find a pair with highest product from a given\n",
        "array of integers.\n",
        "\n",
        "**Code :**"
      ]
    },
    {
      "cell_type": "code",
      "metadata": {
        "colab": {
          "base_uri": "https://localhost:8080/"
        },
        "id": "-uuK6u5yL62k",
        "outputId": "0fbf1fa0-c8ad-4c0a-ddc5-0305e05465a3"
      },
      "source": [
        "def maxProduct(arr, n):\n",
        " \n",
        "    if (n < 2):\n",
        "        print(\"No pairs exists\")\n",
        "        return\n",
        "     \n",
        "    # Initialize max product pair\n",
        "    a = arr[0]; b = arr[1]\n",
        " \n",
        "    # Traverse through every possible pair and keep track of max product\n",
        "    for i in range(0, n):      \n",
        "        for j in range(i + 1, n):\n",
        "            if (arr[i] * arr[j] > a * b):\n",
        "                a = arr[i]\n",
        "                b = arr[j]\n",
        " \n",
        "    print(\"Output :\\n\\nThe pair with highest product in the array is ({},{})\".format(a,b))\n",
        "     \n",
        "if __name__ == \"__main__\" :\n",
        "  arr = [1, 4, 3, 9, 8, 0]\n",
        "  n = len(arr)\n",
        "  maxProduct(arr,n)"
      ],
      "execution_count": null,
      "outputs": [
        {
          "output_type": "stream",
          "text": [
            "Output :\n",
            "\n",
            "The pair with highest product in the array is (9,8)\n"
          ],
          "name": "stdout"
        }
      ]
    },
    {
      "cell_type": "markdown",
      "metadata": {
        "id": "__5_nyVzL-L3"
      },
      "source": [
        "**Arrays**\n",
        "\n",
        "b. Perform a right circular shift on elements of an array as per shifts\n",
        "mentioned by user.\n",
        "\n",
        "**Code :**"
      ]
    },
    {
      "cell_type": "code",
      "metadata": {
        "colab": {
          "base_uri": "https://localhost:8080/"
        },
        "id": "UhXsH-RAMBG7",
        "outputId": "a4233aef-0378-46d0-99b1-072c76f36657"
      },
      "source": [
        "def rightRotateArraybyn(arr,n): \n",
        "    \n",
        "  #Rotate the given array by n times toward right  \n",
        "    for i in range(0, n):  \n",
        "      #Stores the last element of array  \n",
        "        last = arr[len(arr)-1];  \n",
        "        \n",
        "        for j in range(len(arr)-1, -1, -1):  \n",
        "          #Shift element of array by one  \n",
        "          arr[j] = arr[j-1];  \n",
        "            \n",
        "      #Last element of the array will be added to the start of the array.  \n",
        "    \n",
        "        arr[0] = last;  \n",
        "    return(arr)\n",
        "\n",
        "\n",
        "if __name__ == \"__main__\":  \n",
        "  #Initialize array   \n",
        "  arr = [1, 2, 3, 4, 5]; \n",
        "  n = int(input(\"Output :\\n\\nEnter the number of right rotations : \"))\n",
        "  print(\"Original array: \");  \n",
        "  for i in range(0, len(arr)):  \n",
        "      print(arr[i])\n",
        "\n",
        "  rightRotateArraybyn(arr,n)\n",
        "    \n",
        "  #Displays resulting array after rotation  \n",
        "  print(\"Array after right rotation: \");  \n",
        "  for i in range(0, len(arr)):  \n",
        "      print(arr[i])"
      ],
      "execution_count": null,
      "outputs": [
        {
          "output_type": "stream",
          "text": [
            "Output :\n",
            "\n",
            "Enter the number of right rotations : 2\n",
            "Original array: \n",
            "1\n",
            "2\n",
            "3\n",
            "4\n",
            "5\n",
            "Array after right rotation: \n",
            "4\n",
            "5\n",
            "1\n",
            "2\n",
            "3\n"
          ],
          "name": "stdout"
        }
      ]
    },
    {
      "cell_type": "markdown",
      "metadata": {
        "id": "sN2wBL-CMH3W"
      },
      "source": [
        "**Functions**\n",
        "\n",
        "b. Write python scripts to merge two dict.\n",
        "\n",
        "**Code :**"
      ]
    },
    {
      "cell_type": "code",
      "metadata": {
        "colab": {
          "base_uri": "https://localhost:8080/"
        },
        "id": "_WwqceK5MIwc",
        "outputId": "9c0f503e-c726-4151-a3d1-aa0751456856"
      },
      "source": [
        "def MergeDict(dict1, dict2):\n",
        "  dict3 = dict2.copy()\n",
        "  dict3.update(dict1)\n",
        "  return(sorted(dict3.items()))\n",
        "\n",
        "if __name__ == \"__main__\":\n",
        "  dict1 = {'a': 100, 'b': 200}\n",
        "  dict2 = {'x': 300, 'y': 200}\n",
        "  print(\"Output :\\n\\nDictionary 1 : {}\".format(dict1));\n",
        "  print(\"Dictionary 2 : {}\".format(dict2));\n",
        "  print(\"\\nThe resultant dictionary after merging the dictionaries is : \\n{}\"\n",
        "                                              .format(MergeDict(dict1,dict2)))"
      ],
      "execution_count": null,
      "outputs": [
        {
          "output_type": "stream",
          "text": [
            "Output :\n",
            "\n",
            "Dictionary 1 : {'a': 100, 'b': 200}\n",
            "Dictionary 2 : {'x': 300, 'y': 200}\n",
            "\n",
            "The resultant dictionary after merging the dictionaries is : \n",
            "[('a', 100), ('b', 200), ('x', 300), ('y', 200)]\n"
          ],
          "name": "stdout"
        }
      ]
    },
    {
      "cell_type": "markdown",
      "metadata": {
        "id": "LpZZ3Jf5MPOZ"
      },
      "source": [
        "**Functions**\n",
        "\n",
        "d. Write python script to print all unique values in a dictionary.\n",
        "\n",
        "\n",
        "**Code :**"
      ]
    },
    {
      "cell_type": "code",
      "metadata": {
        "colab": {
          "base_uri": "https://localhost:8080/"
        },
        "id": "nrVGr8XnMgE4",
        "outputId": "c6e32925-9428-47c6-e1be-f6ae8c81c18e"
      },
      "source": [
        "def unique_values(dict1):\n",
        "  list =[] # create empty list\n",
        "  for val in dict1.values(): \n",
        "    if val in list: \n",
        "      continue \n",
        "    else:\n",
        "      list.append(val)\n",
        "  return(list)\n",
        "\n",
        "if __name__ == \"__main__\":\n",
        "  dict1 = {'Next': 1, 'time': 2, 'there': 1, \"won't\": 1, 'be': 1, 'a': 1, 'next': 1}\n",
        "  print(\"Output :\\n\\nThe unique values in the dictionary are : \",unique_values(dict1))"
      ],
      "execution_count": null,
      "outputs": [
        {
          "output_type": "stream",
          "text": [
            "Output :\n",
            "\n",
            "The unique values in the dictionary are :  [1, 2]\n"
          ],
          "name": "stdout"
        }
      ]
    },
    {
      "cell_type": "markdown",
      "metadata": {
        "id": "DNzcNf43MisY"
      },
      "source": [
        "**Functions**\n",
        "\n",
        "e. Write python scripts to find the highest 3 values in a dictionary.\n",
        "\n",
        "**Code :**"
      ]
    },
    {
      "cell_type": "code",
      "metadata": {
        "colab": {
          "base_uri": "https://localhost:8080/"
        },
        "id": "T6LX3qMdMmFS",
        "outputId": "dec2f206-5596-41db-d02d-bdee91960dc0"
      },
      "source": [
        "from heapq import nlargest \n",
        "  \n",
        "# Initial Dictionary \n",
        "mydict = {'A': 67, 'B': 23, 'C': 45, 'D': 56, 'E': 12, 'F': 69} \n",
        "print(\"Output : \\n\\n\") \n",
        "print(\"Initial Dictionary:\") \n",
        "print(mydict, \"\\n\") \n",
        "  \n",
        "ThreeHighest = nlargest(3, mydict, key = mydict.get) \n",
        "  \n",
        "print(\"Dictionary with 3 highest values : \\n\") \n",
        "print(\"Keys : Values\") \n",
        "  \n",
        "for val in ThreeHighest: \n",
        "    print(val, \":\", mydict.get(val)) "
      ],
      "execution_count": null,
      "outputs": [
        {
          "output_type": "stream",
          "text": [
            "Output : \n",
            "\n",
            "\n",
            "Initial Dictionary:\n",
            "{'A': 67, 'B': 23, 'C': 45, 'D': 56, 'E': 12, 'F': 69} \n",
            "\n",
            "Dictionary with 3 highest values : \n",
            "\n",
            "Keys : Values\n",
            "F : 69\n",
            "A : 67\n",
            "D : 56\n"
          ],
          "name": "stdout"
        }
      ]
    }
  ]
}