{
  "nbformat": 4,
  "nbformat_minor": 0,
  "metadata": {
    "colab": {
      "name": "8960 Candida - Practical 10.ipynb",
      "provenance": [],
      "authorship_tag": "ABX9TyOEgiudZYhNnCoZBiH1/wWJ",
      "include_colab_link": true
    },
    "kernelspec": {
      "name": "python3",
      "display_name": "Python 3"
    },
    "language_info": {
      "name": "python"
    }
  },
  "cells": [
    {
      "cell_type": "markdown",
      "metadata": {
        "id": "view-in-github",
        "colab_type": "text"
      },
      "source": [
        "<a href=\"https://colab.research.google.com/github/Candida18/Python/blob/main/8960_Candida_Practical_10.ipynb\" target=\"_parent\"><img src=\"https://colab.research.google.com/assets/colab-badge.svg\" alt=\"Open In Colab\"/></a>"
      ]
    },
    {
      "cell_type": "markdown",
      "metadata": {
        "id": "5ntjfolCyr3A"
      },
      "source": [
        "**Name : Candida Ruth Noronha**\n",
        "\n",
        "**Class : SE COMPS B**\n",
        "\n",
        "**Roll No. : 8960**\n",
        "\n",
        "**Title : Python Experiment 10**"
      ]
    },
    {
      "cell_type": "markdown",
      "metadata": {
        "id": "nsjpIqfLyugG"
      },
      "source": [
        "**Aim:**\n",
        "\n",
        "To explore Numpy arrays and its operation"
      ]
    },
    {
      "cell_type": "code",
      "metadata": {
        "colab": {
          "base_uri": "https://localhost:8080/"
        },
        "id": "qMuSNjXzyh09",
        "outputId": "7e4a8413-9691-4768-cb8c-946e0daa368d"
      },
      "source": [
        "import numpy as np\n",
        "  \n",
        "R = int(input(\" Enter the number of rows : \"))\n",
        "C = int(input(\" Enter the number of columns : \"))\n",
        "  \n",
        "print(\"\\n Enter the entries rowise : \")\n",
        "  \n",
        "# User input of entries in a \n",
        "# single line separated by space\n",
        "entries = list(map(int, input().split()))\n",
        "  \n",
        "# For printing the matrix\n",
        "matrix = np.array(entries).reshape(R, C)\n",
        "print(\"\\n\",matrix)\n",
        "\n",
        "print(\"\\n------------------------------------------------------------------------------------------------\\n\");\n",
        "\n",
        "print(\"\\n 1. Slicing multidimentional array\\n 2. Flipping the order of the axes of an multidimentional array\\n 3. Exit\\n\")\n",
        "\n",
        "while(True):\n",
        "  print(\"\\n------------------------------------------------------------------------------------------------\\n\");\n",
        "  choice = int(input(\" Enter the choice : \"))\n",
        "\n",
        "  if(choice == 1):\n",
        "    print(\"\\n For Slicing w.r.t. Row \\n\")\n",
        "    rfrom = int(input(\" From Index : \"))\n",
        "    rto = int(input(\" To Index : \"))\n",
        "\n",
        "    print(\"\\n For Slicing w.r.t. Column \\n\")\n",
        "    cfrom = int(input(\" From Index : \"))\n",
        "    cto = int(input(\" To Index : \"))\n",
        "\n",
        "    print(\"\\n The sliced multidimentional array : \\n\")\n",
        "    print(matrix[rfrom:rto, cfrom:cto])\n",
        "  \n",
        "  elif(choice == 2):\n",
        "    #Transpose of an array.\n",
        "    print(\"\\n Transpose of the matrix : \\n\")\n",
        "    arrayT = np.transpose(matrix)\n",
        "    print(arrayT)\n",
        "\n",
        "    \n",
        "    # Flip array in the left/right direction.\n",
        "    print(\"\\n Flipped matrix in the left/right direction : \\n\")\n",
        "    arrayFlr = np.fliplr(matrix)\n",
        "    print(arrayFlr)\n",
        "\n",
        "    \n",
        "    # Flip array in the up/down direction.\n",
        "    print(\"\\n Flipped matrix in the up/down direction : \\n\")\n",
        "    arrayFud = np.flipud(matrix)\n",
        "    print(arrayFud)\n",
        "    \n",
        "    \n",
        "    # Rotate an array by 90 degrees in the plane specified by axes.\n",
        "    print(\"\\n Rotated matrix by 90 degrees in the plane specified by axes : \\n\")\n",
        "    arrayRot90 = np.rot90(matrix)\n",
        "    print(arrayRot90)\n",
        "\n",
        "  elif(choice == 3):\n",
        "    print(\"\\n Exiting !\")\n",
        "    break\n",
        "\n",
        "\n",
        " \n",
        "\n"
      ],
      "execution_count": null,
      "outputs": [
        {
          "output_type": "stream",
          "text": [
            " Enter the number of rows : 3\n",
            " Enter the number of columns : 3\n",
            "\n",
            " Enter the entries rowise : \n",
            "1 2 3 4 5 6 7 8 9\n",
            "\n",
            " [[1 2 3]\n",
            " [4 5 6]\n",
            " [7 8 9]]\n",
            "\n",
            "------------------------------------------------------------------------------------------------\n",
            "\n",
            "\n",
            " 1. Slicing multidimentional array\n",
            " 2. Flipping the order of the axes of an multidimentional array\n",
            " 3. Exit\n",
            "\n",
            "\n",
            "------------------------------------------------------------------------------------------------\n",
            "\n",
            " Enter the choice : 1\n",
            "\n",
            " For Slicing w.r.t. Row \n",
            "\n",
            " From Index : 1\n",
            " To Index : 3\n",
            "\n",
            " For Slicing w.r.t. Column \n",
            "\n",
            " From Index : 0\n",
            " To Index : 3\n",
            "\n",
            " The sliced multidimentional array : \n",
            "\n",
            "[[4 5 6]\n",
            " [7 8 9]]\n",
            "\n",
            "------------------------------------------------------------------------------------------------\n",
            "\n",
            " Enter the choice : 2\n",
            "\n",
            " Transpose of the matrix : \n",
            "\n",
            "[[1 4 7]\n",
            " [2 5 8]\n",
            " [3 6 9]]\n",
            "\n",
            " Flipped matrix in the left/right direction : \n",
            "\n",
            "[[3 2 1]\n",
            " [6 5 4]\n",
            " [9 8 7]]\n",
            "\n",
            " Flipped matrix in the up/down direction : \n",
            "\n",
            "[[7 8 9]\n",
            " [4 5 6]\n",
            " [1 2 3]]\n",
            "\n",
            " Rotated matrix by 90 degrees in the plane specified by axes : \n",
            "\n",
            "[[3 6 9]\n",
            " [2 5 8]\n",
            " [1 4 7]]\n",
            "\n",
            "------------------------------------------------------------------------------------------------\n",
            "\n",
            " Enter the choice : 3\n",
            "\n",
            " Exiting !\n"
          ],
          "name": "stdout"
        }
      ]
    }
  ]
}